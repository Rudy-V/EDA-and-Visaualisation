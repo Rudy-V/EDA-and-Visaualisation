{
 "cells": [
  {
   "cell_type": "markdown",
   "id": "332fda13",
   "metadata": {},
   "source": [
    "# Sourcing data\n",
    "This file scrapes the web for the information and then saves the file to a csv file"
   ]
  },
  {
   "cell_type": "markdown",
   "id": "316b4b32",
   "metadata": {},
   "source": [
    "### Improting packages"
   ]
  },
  {
   "cell_type": "code",
   "execution_count": 1,
   "id": "ec489dab",
   "metadata": {},
   "outputs": [],
   "source": [
    "import pandas as pd"
   ]
  },
  {
   "cell_type": "markdown",
   "id": "261da4b6",
   "metadata": {},
   "source": [
    "### Web scraping and dataframe creation"
   ]
  },
  {
   "cell_type": "code",
   "execution_count": 2,
   "id": "a30237e7",
   "metadata": {},
   "outputs": [],
   "source": [
    "# This creates an empty list to store the requires URLs\n",
    "url = []\n",
    "\n",
    "# This creates a URL for each year and saves it to a list\n",
    "for i in range(0,23):\n",
    "    if i < 10:\n",
    "        url.append(f'https://za.national-lottery.com/lotto/results/200{i}-archive')\n",
    "    else:\n",
    "        url.append(f'https://za.national-lottery.com/lotto/results/20{i}-archive')"
   ]
  },
  {
   "cell_type": "code",
   "execution_count": 3,
   "id": "1ef42f91",
   "metadata": {},
   "outputs": [],
   "source": [
    "# This creates an empty dataframe\n",
    "loto = pd.DataFrame()\n",
    "\n",
    "# This loops through the url list and creates a dataframe\n",
    "# The newly created dataframe is appended to the main dataframe\n",
    "for i in url:\n",
    "    temp_df_unp = pd.read_html(i)\n",
    "    temp_df = temp_df_unp[0]\n",
    "    loto = loto.append(temp_df)"
   ]
  },
  {
   "cell_type": "markdown",
   "id": "e5314235",
   "metadata": {},
   "source": [
    "### Exporting dataframe to a file"
   ]
  },
  {
   "cell_type": "code",
   "execution_count": 4,
   "id": "f1c50dda",
   "metadata": {},
   "outputs": [],
   "source": [
    "# This exports the dataframe to a zip file\n",
    "compression_opts = dict(method='zip',archive_name='out.csv')  \n",
    "loto.to_csv('out.zip', index=False,compression=compression_opts)  "
   ]
  },
  {
   "cell_type": "code",
   "execution_count": null,
   "id": "7f98ce7b",
   "metadata": {},
   "outputs": [],
   "source": []
  }
 ],
 "metadata": {
  "kernelspec": {
   "display_name": "Python 3",
   "language": "python",
   "name": "python3"
  },
  "language_info": {
   "codemirror_mode": {
    "name": "ipython",
    "version": 3
   },
   "file_extension": ".py",
   "mimetype": "text/x-python",
   "name": "python",
   "nbconvert_exporter": "python",
   "pygments_lexer": "ipython3",
   "version": "3.9.5"
  }
 },
 "nbformat": 4,
 "nbformat_minor": 5
}
